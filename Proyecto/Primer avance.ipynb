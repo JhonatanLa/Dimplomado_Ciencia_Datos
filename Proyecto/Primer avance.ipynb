{
 "cells": [
  {
   "cell_type": "markdown",
   "id": "2e0df55e-91a0-4131-9cfd-874ea8dd2e7e",
   "metadata": {},
   "source": [
    "# Titulo: Predictor de absentismo\n",
    "\n",
    "Reporte No. 1. A través de este proyecto se busca crear un modelo predictivo de absentismo en el trabajo.\n",
    "\n",
    "Asesor principal: Campo Elias Pardo Turriago\n",
    "\n",
    "Autor: Jhonatan David Laiton\n",
    "\n",
    "## Introducción:\n",
    "El ausentismo es un patrón habitual de ausencia de un deber u obligación sin una buena razón. Generalmente, el ausentismo son ausencias no planificadas. El ausentismo ha sido visto como un indicador de bajo desempeño individual, así como un incumplimiento de un contrato implícito entre el empleado y el empleador.\n",
    "La ausencia de un empleado puede generar un desfase determinado día, en una línea de producción, en la elaboración de un proyecto o en una toma de decisiones etc...\n",
    "\n",
    "## Descripción del problema:\n",
    "El proyecto tiene como fin predecir patrones de adsentismo \n",
    "\n",
    "## Fuentes de datos\n",
    "Kaggle: Absenteeism at Work\n",
    "\n",
    "## Procesamiento ETL\n",
    "Se requiere organizar la base de datos por variables\n",
    "\n",
    "## Exploración de los datos\n",
    "Categorizacion, caracterización\n",
    "Clostering\n",
    "\n",
    "## Técnicas de modelación propuestas\n",
    "Correspondencias\n",
    "\n",
    "## Conocimientos requeridos para el desarrollo del proyecto\n",
    "- Python\n",
    "- R\n",
    "\n",
    "## Resultados esperados\n",
    "Se espera que el predicto identifique perfiles de absentismo.\n",
    "\n",
    "## Tiempo de desarrollo esperado\n",
    "De 4 a 6 semanas"
   ]
  },
  {
   "cell_type": "code",
   "execution_count": null,
   "id": "bfd78df4-dc36-4c87-8067-60dec2da6afa",
   "metadata": {},
   "outputs": [],
   "source": []
  }
 ],
 "metadata": {
  "kernelspec": {
   "display_name": "Python 3 (ipykernel)",
   "language": "python",
   "name": "python3"
  },
  "language_info": {
   "codemirror_mode": {
    "name": "ipython",
    "version": 3
   },
   "file_extension": ".py",
   "mimetype": "text/x-python",
   "name": "python",
   "nbconvert_exporter": "python",
   "pygments_lexer": "ipython3",
   "version": "3.10.6"
  }
 },
 "nbformat": 4,
 "nbformat_minor": 5
}
