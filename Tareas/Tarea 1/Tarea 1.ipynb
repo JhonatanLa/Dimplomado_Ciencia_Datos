{
 "cells": [
  {
   "cell_type": "markdown",
   "id": "71106daa-7653-4589-9921-3adc7cbcbc69",
   "metadata": {},
   "source": [
    "<figure>\n",
    "<img src=\"../Diplomado/logo-final-ap.png\"  width=\"80\" height=\"80\" align=\"left\"/> \n",
    "</figure>"
   ]
  },
  {
   "cell_type": "markdown",
   "id": "4bf65a7e-2f56-4c1f-b7aa-7a3a5168895a",
   "metadata": {},
   "source": [
    "# <span style=\"color:green\">Regresion Lineal</span>"
   ]
  },
  {
   "cell_type": "markdown",
   "id": "aec17b7f-1527-47ef-8da0-ca9748f8af85",
   "metadata": {},
   "source": [
    "### Autor: Jhonatan David Laiton"
   ]
  },
  {
   "cell_type": "markdown",
   "id": "de8aaff7-af7a-4e06-abe5-8cd152bd8abd",
   "metadata": {},
   "source": [
    "Estudiante de pregrado en Psicología de la Universidad Nacional de Colombia"
   ]
  },
  {
   "cell_type": "markdown",
   "id": "8c6def0e-4be6-4c0b-89f6-4e730de08c7d",
   "metadata": {},
   "source": [
    "<figure>\n",
    "    <center>\n",
    "<img src=\"../OneDrive/Pictures/IMG_20220701_165243-01.jpeg\" width=\"500\" height=\"500\" />\n",
    "</figure>"
   ]
  },
  {
   "cell_type": "markdown",
   "id": "294f1c99-bd14-4127-aabb-74c741fa845c",
   "metadata": {},
   "source": [
    "1. Regresion lineal"
   ]
  },
  {
   "cell_type": "markdown",
   "id": "a73ae5cc-a4a5-4d5c-a6f9-18f4b6db1332",
   "metadata": {},
   "source": [
    "La regresión lineal o ajuste lineal es un modelo matemático usado para aproximar la relación de dependencia entre una variable dependiente ${\\displaystyle Y}$, ${\\displaystyle m}$ variables independientes ${\\displaystyle X_{i}}$ con ${\\displaystyle m\\in \\mathbb {Z}^{+}}$ y un término aleatorio ${\\displaystyle \\varepsilon }$."
   ]
  },
  {
   "cell_type": "markdown",
   "id": "81cb9b71-3997-4bad-acbe-d111e1748d0e",
   "metadata": {},
   "source": [
    "Este modelo puede ser expresado como:"
   ]
  },
  {
   "cell_type": "markdown",
   "id": "448ff010-c1d2-4c47-bc1c-63bc78037c02",
   "metadata": {},
   "source": [
    "<figure>\n",
    "<img src=\"https://wikimedia.org/api/rest_v1/media/math/render/svg/03dc99b761b997908d3aa34aff2f72eb33f50f11\"  width=\"400\" height=\"400\" align:center/> \n",
    "<figcaption><a href=\"https://wikimedia.org/api/rest_v1/media/math/render/svg/03dc99b761b997908d3aa34aff2f72eb33f50f11\">\n",
    "</figure>"
   ]
  },
  {
   "cell_type": "markdown",
   "id": "edb0217d-35d4-4b29-be66-189692579c07",
   "metadata": {},
   "source": [
    "### Por ejemplo"
   ]
  },
  {
   "cell_type": "markdown",
   "id": "c74b0451-583d-4754-9356-a64d958a5d22",
   "metadata": {},
   "source": [
    "*La regresión lineal simple*"
   ]
  },
  {
   "cell_type": "markdown",
   "id": "0c89a7cd-d724-4d1b-b8e0-1d9bf57b7570",
   "metadata": {},
   "source": [
    "Puede usarse a la hora de predecir accidentes mortales de tráfico en un país. La variable de respuesta Y sería el país y se compararía con la población, que sería la variable predictora X."
   ]
  },
  {
   "cell_type": "markdown",
   "id": "fdecdb4a-c540-4f2f-b355-584dbf7a1009",
   "metadata": {},
   "source": [
    "<figure>\n",
    "<img src=\"https://blog.structuralia.com/hs-fs/hubfs/1633498482172.jpg?width=557&name=1633498482172.jpg\"  width=\"400\" height=\"400\" align:center/> \n",
    "<figcaption><a href=\"https://blog.structuralia.com/hs-fs/hubfs/1633498482172.jpg?width=557&name=1633498482172.jpg\">\n",
    "</figure>"
   ]
  },
  {
   "cell_type": "markdown",
   "id": "4540dcd5-06b8-413f-9a99-ad9c1f29d711",
   "metadata": {},
   "source": [
    "## Referencias:"
   ]
  },
  {
   "cell_type": "markdown",
   "id": "a8d16f38-d2a5-4910-938a-126192c6d157",
   "metadata": {},
   "source": [
    "Ejemplos de regresión lineal: todo lo que hay que saber al respeto. (n.d.). Retrieved October 30, 2022, from [https://blog.structuralia.com/ejemplos-de-regresion-lineal](https://blog.structuralia.com/ejemplos-de-regresion-lineal)"
   ]
  },
  {
   "cell_type": "code",
   "execution_count": null,
   "id": "fe56d5c0-4890-4a82-a51e-49ca88fac9e9",
   "metadata": {},
   "outputs": [],
   "source": []
  }
 ],
 "metadata": {
  "kernelspec": {
   "display_name": "Python 3 (ipykernel)",
   "language": "python",
   "name": "python3"
  },
  "language_info": {
   "codemirror_mode": {
    "name": "ipython",
    "version": 3
   },
   "file_extension": ".py",
   "mimetype": "text/x-python",
   "name": "python",
   "nbconvert_exporter": "python",
   "pygments_lexer": "ipython3",
   "version": "3.10.6"
  },
  "toc-showmarkdowntxt": false
 },
 "nbformat": 4,
 "nbformat_minor": 5
}
