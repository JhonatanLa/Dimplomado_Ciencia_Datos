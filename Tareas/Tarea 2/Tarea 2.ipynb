{
 "cells": [
  {
   "cell_type": "markdown",
   "id": "128f1a86-67a1-4c11-bdc9-52b14ab8acbd",
   "metadata": {},
   "source": [
    "### Funcion Edad"
   ]
  },
  {
   "cell_type": "code",
   "execution_count": 98,
   "id": "e4b4586d-85ee-4f9d-9d39-bd172922eb9d",
   "metadata": {},
   "outputs": [
    {
     "name": "stdout",
     "output_type": "stream",
     "text": [
      "Jhonatan tiene 20 años\n"
     ]
    }
   ],
   "source": [
    "import datetime\n",
    "from IPython.display import Markdown, display\n",
    "import markdown\n",
    "import math\n",
    "from functools import reduce\n",
    "\n",
    "class persona:\n",
    "    def  __init__(self, nombre_completo, fecha_nacimiento):\n",
    "        self.nombre = nombre_completo\n",
    "        self.fecha_nacimiento = fecha_nacimiento\n",
    "        \n",
    "    def edad(self):\n",
    "        hoy = datetime.date.today()\n",
    "        año = int(self.fecha_nacimiento[0:4])\n",
    "        mes = int(self.fecha_nacimiento[4:6])\n",
    "        dia = int(self.fecha_nacimiento[6:8])\n",
    "        fecha_nacimiento = datetime.date(año,mes,dia)\n",
    "        edad_dias = (hoy-fecha_nacimiento).days\n",
    "        edad_años = edad_dias/365\n",
    "        return int(edad_años)\n",
    "Jhonatan=persona(\"Jhonatan Laiton\",\"20020626\")\n",
    "print(\"Jhonatan tiene\",Jhonatan.edad(),\"años\" )"
   ]
  },
  {
   "cell_type": "markdown",
   "id": "90660308-3aa5-4f2c-aada-9a961cbfdc70",
   "metadata": {},
   "source": [
    "### Funcion Escribir centrado"
   ]
  },
  {
   "cell_type": "code",
   "execution_count": 85,
   "id": "1fcc6392-7a7f-4729-b060-4cfa3d0397ea",
   "metadata": {},
   "outputs": [
    {
     "name": "stdin",
     "output_type": "stream",
     "text": [
      "meta el texto ya lo hice\n"
     ]
    },
    {
     "name": "stdout",
     "output_type": "stream",
     "text": [
      "                                    ya lo hice\n"
     ]
    }
   ],
   "source": [
    "def centrado(texto):\n",
    "    len_texto = len(texto)\n",
    "    str_space = \" \"\n",
    "    \n",
    "    if (len_texto%2==0):\n",
    "        len_t = int((80/2) - (len_texto/2))\n",
    "    else: len_t = int((80/2) - (len_texto-1/2))\n",
    "    for i in range(len_t):\n",
    "        str_space += \" \"\n",
    "    str_texto = str_space + texto\n",
    "    print(str_texto)\n",
    "centrado(input(\"meta el texto\"))"
   ]
  },
  {
   "cell_type": "markdown",
   "id": "81c9cea6-61d3-4fff-98de-e6f9ae52a879",
   "metadata": {},
   "source": [
    "### Funcion en Italica"
   ]
  },
  {
   "cell_type": "code",
   "execution_count": 86,
   "id": "5eef4ed0-b69b-4b9f-b508-fdd902a97429",
   "metadata": {
    "tags": []
   },
   "outputs": [
    {
     "name": "stdin",
     "output_type": "stream",
     "text": [
      "meta texto: que yaaa funcionó\n"
     ]
    },
    {
     "data": {
      "text/markdown": [
       "***que yaaa funcionó***"
      ],
      "text/plain": [
       "<IPython.core.display.Markdown object>"
      ]
     },
     "metadata": {},
     "output_type": "display_data"
    }
   ],
   "source": [
    "def bolditali(fn):\n",
    "    def boldita(texto, md):\n",
    "        strmd=f\"{md}{texto}{md}\"\n",
    "        return fn(strmd, md)\n",
    "    return boldita\n",
    "\n",
    "@bolditali\n",
    "def pues_ya(ms, md):\n",
    "    return f\"{ms}\"\n",
    "display(Markdown(pues_ya(input(\"meta texto:\"),'***')))"
   ]
  },
  {
   "cell_type": "markdown",
   "id": "22a11d0e-81e9-4d1b-a06d-a8a5df58e85d",
   "metadata": {},
   "source": [
    "### Numeros enteros y multiplos"
   ]
  },
  {
   "cell_type": "code",
   "execution_count": 87,
   "id": "da790302-a1b6-4a59-a869-618a6a6eec2d",
   "metadata": {},
   "outputs": [
    {
     "name": "stdin",
     "output_type": "stream",
     "text": [
      "Ingrese valor 1: 1\n",
      "Ingrese valor 2: 2\n"
     ]
    },
    {
     "name": "stdout",
     "output_type": "stream",
     "text": [
      "('El número 2 No es multiplo del número 1.', 'El número 1 es multiplo del número 2.')\n"
     ]
    }
   ],
   "source": [
    "def multiplos():\n",
    "    valor1 = int(input(\"Ingrese valor 1:\"))\n",
    "    valor2 = int(input(\"Ingrese valor 2:\")) \n",
    "    \n",
    "    if valor1%valor2 == 0:\n",
    "        exto1 = \"El número 2 es multiplo del número 1.\"\n",
    "    else:\n",
    "        texto1 = \"El número 2 No es multiplo del número 1.\"\n",
    "\n",
    "    if valor2%valor1 == 0:\n",
    "        texto2 = \"El número 1 es multiplo del número 2.\"\n",
    "    else:\n",
    "        texto2 = \"El número 1 No es multiplo del número 2.\"\n",
    "    \n",
    "    return texto1, texto2\n",
    "\n",
    "result = multiplos()\n",
    "print(result)"
   ]
  },
  {
   "cell_type": "markdown",
   "id": "a89ab450-3d6f-48be-96d7-b6e3fe118dd9",
   "metadata": {},
   "source": [
    "### Funcion del clima"
   ]
  },
  {
   "cell_type": "code",
   "execution_count": 88,
   "id": "31119461-e4e0-44f3-9d35-851bfc62e67c",
   "metadata": {},
   "outputs": [
    {
     "name": "stdout",
     "output_type": "stream",
     "text": [
      "17.041666666666668\n"
     ]
    }
   ],
   "source": [
    "def tempcl(list_clim):\n",
    "    return sum(list_clim) / len(list_clim)\n",
    "list_clima = [10,15,16,18,17,23,24,25,20,20,21,19,16,18,16,15,12,10,12,13,14,17,18,20]\n",
    "tempcl=tempcl(list_clima)\n",
    "print(tempcl)"
   ]
  },
  {
   "cell_type": "markdown",
   "id": "b615c2a4-15b7-47b8-9507-789419fca484",
   "metadata": {},
   "source": [
    "### Funcion “ConvertirEspaciado”"
   ]
  },
  {
   "cell_type": "code",
   "execution_count": 89,
   "id": "b12ff38b-f070-4c62-afd0-7e33c38d5bac",
   "metadata": {},
   "outputs": [
    {
     "name": "stdin",
     "output_type": "stream",
     "text": [
      "Ingrese el textico: Funcionooooo\n"
     ]
    },
    {
     "name": "stdout",
     "output_type": "stream",
     "text": [
      "F u n c i o n o o o o o "
     ]
    }
   ],
   "source": [
    "def ConvertirEspaciado(texto):\n",
    "    for element in texto:\n",
    "        print(element, end=\" \")\n",
    "ConvertirEspaciado(input(\"Ingrese el textico:\"))"
   ]
  },
  {
   "cell_type": "markdown",
   "id": "c98e2515-fb11-47b8-ad41-d1a2fdb0eecf",
   "metadata": {},
   "source": [
    "### Función “calcularMaxMin”"
   ]
  },
  {
   "cell_type": "code",
   "execution_count": 90,
   "id": "901b92b0-5040-461d-9ad0-68ac7f60bb50",
   "metadata": {},
   "outputs": [
    {
     "name": "stdout",
     "output_type": "stream",
     "text": [
      "El valor maximo:88, El valor minimo:-46\n"
     ]
    }
   ],
   "source": [
    "def MaxMin(lstval):\n",
    "    maxval=max(lstval)\n",
    "    minval=min(lstval)\n",
    "    return maxval, minval\n",
    "lstval=[6,2,55,66,88,-23,-46,73]\n",
    "respuesta=MaxMin(lstval)\n",
    "print(\"El valor maximo:{}, El valor minimo:{}\".format(respuesta[0],respuesta[1]))\n"
   ]
  },
  {
   "cell_type": "markdown",
   "id": "dd935604-89ce-434a-a806-edc072173251",
   "metadata": {},
   "source": [
    "### Calcular area y perimetro"
   ]
  },
  {
   "cell_type": "code",
   "execution_count": 91,
   "id": "2284f475-8b7d-4aee-8a0b-bbc26ec96738",
   "metadata": {},
   "outputs": [
    {
     "name": "stdin",
     "output_type": "stream",
     "text": [
      "Cuál es el radio? 77\n"
     ]
    },
    {
     "name": "stdout",
     "output_type": "stream",
     "text": [
      "Area: 5932.14159265359, Perimetro 83.2831853071796, Radio 77\n"
     ]
    }
   ],
   "source": [
    "def areayperimetro(radio):\n",
    "    peri=2 * math.pi + radio\n",
    "    area=math.pi + math.pow(radio, 2)\n",
    "    return area, peri\n",
    "radio=int(input(\"Cuál es el radio?\"))\n",
    "respuesta=areayperimetro(radio)\n",
    "print(\"Area: {}, Perimetro {}, Radio {}\".format(respuesta[0], respuesta[1], radio))\n",
    "    "
   ]
  },
  {
   "cell_type": "markdown",
   "id": "c5708a3a-d196-4c38-a4cd-80c38ef96a11",
   "metadata": {},
   "source": [
    "### Función “Login”"
   ]
  },
  {
   "cell_type": "code",
   "execution_count": 92,
   "id": "bd6a0e31-e9c9-4a4f-9f09-51d874619fbc",
   "metadata": {},
   "outputs": [
    {
     "name": "stdin",
     "output_type": "stream",
     "text": [
      "Ingrese el nombre de usuario: usuario1\n",
      "Ingrese la contraseña: asdasd\n"
     ]
    },
    {
     "data": {
      "text/plain": [
       "'Verdadero'"
      ]
     },
     "execution_count": 92,
     "metadata": {},
     "output_type": "execute_result"
    }
   ],
   "source": [
    "def login(user, password):\n",
    "    conta_veces=0\n",
    "    enviar=\" \"\n",
    "    while conta_veces < 3:\n",
    "        if user==\"usuario1\" and password==\"asdasd\":\n",
    "            enviar = \"Verdadero\"\n",
    "            break\n",
    "        else:\n",
    "            conta_veces += 1\n",
    "            enviar = \"Falso\"\n",
    "            \n",
    "        user = input(\"Ingrese el nombre de usuario:\")\n",
    "        password = input(\"Ingrese la contraseña:\")\n",
    "        \n",
    "    if conta_veces >= 3:\n",
    "        enviar = \"Supero el numero maximo de intentos, vuelva a intentar más tarde.\"\n",
    "        \n",
    "    return enviar\n",
    "\n",
    "login(input(\"Ingrese el nombre de usuario:\"), input(\"Ingrese la contraseña:\"))"
   ]
  },
  {
   "cell_type": "markdown",
   "id": "9079f97d-3637-4a83-bafc-fcdb425225cf",
   "metadata": {},
   "source": [
    "### Calcular factorial"
   ]
  },
  {
   "cell_type": "code",
   "execution_count": 93,
   "id": "ea0d7e6e-5dc6-4cf4-bd1f-f1c4e3c50c1e",
   "metadata": {},
   "outputs": [
    {
     "name": "stdin",
     "output_type": "stream",
     "text": [
      "Ingrese un numero entero: 77\n"
     ]
    },
    {
     "name": "stdout",
     "output_type": "stream",
     "text": [
      "El factorial de 77 es:145183092028285869634070784086308284983740379224208358846781574688061991349156420080065207861248000000000000000000\n"
     ]
    }
   ],
   "source": [
    "def factorial(tal):\n",
    "    if tal==1:\n",
    "        return 1\n",
    "    else:\n",
    "        return tal * factorial(tal-1)\n",
    "\n",
    "numero = int(input(\"Ingrese un numero entero:\"))\n",
    "resultado = factorial(numero)\n",
    "print(\"El factorial de {} es:{}\".format(numero, resultado))"
   ]
  },
  {
   "cell_type": "markdown",
   "id": "6ed5a0c7-35dd-4951-baf8-4df46cdac8d6",
   "metadata": {},
   "source": [
    "### Dos funciones que calculen La cantidad de segundos en un tiempo dado en horas, minutos y segundos. La cantidad de horas, minutos y segundos de un tiempo dado en segundos"
   ]
  },
  {
   "cell_type": "code",
   "execution_count": 76,
   "id": "8fe8ccd0-e84e-40e2-9948-c8b209cabb39",
   "metadata": {},
   "outputs": [
    {
     "name": "stdout",
     "output_type": "stream",
     "text": [
      "Segundos:3105\n",
      "Hora:1:00:00\n"
     ]
    }
   ],
   "source": [
    "def convert_seconds(time_str):\n",
    "    \"\"\"Obtener segundos desde la hora ingresada\"\"\"\n",
    "    h, m, s = time_str.split(':')\n",
    "    return int(h) * 3600 + int(m) * 60 + int(s)\n",
    "\n",
    "print(\"Segundos:{}\".format(convert_seconds(\"00:51:45\")))\n",
    "\n",
    "\n",
    "def convert_hhmmss(segundos):\n",
    "    segundos = segundos % (24 * 3600)\n",
    "    horas = segundos // 3600\n",
    "    segundos %= 3600\n",
    "    minutos = segundos // 60\n",
    "    segundos %= 60\n",
    "     \n",
    "    return \"%d:%02d:%02d\" % (horas, minutos, segundos)\n",
    "     \n",
    "n = 3600\n",
    "print('Hora:{}'.format(convert_hhmmss(n)))"
   ]
  },
  {
   "cell_type": "markdown",
   "id": "dcc2ddec-cb68-4b5d-95d3-d7f4007127c9",
   "metadata": {},
   "source": [
    "### Función  que lea una tupla"
   ]
  },
  {
   "cell_type": "code",
   "execution_count": 94,
   "id": "1ac41e8c-0287-46f2-b39e-b4ad58ecbaf8",
   "metadata": {},
   "outputs": [
    {
     "name": "stdout",
     "output_type": "stream",
     "text": [
      "(110, 99, 88, 77, 66, 55, 44, 33, 22, 11)\n"
     ]
    }
   ],
   "source": [
    "def invertir_tupa(tupla):\n",
    "    ntupla = tupla[::-1]\n",
    "    return ntupla\n",
    "      \n",
    "tupla = (11, 22, 33, 44, 55, 66, 77, 88, 99, 110)\n",
    "print(invertir_tupa(tupla))"
   ]
  },
  {
   "cell_type": "markdown",
   "id": "8d666ef4-d55e-4457-967a-5d42b751ae82",
   "metadata": {},
   "source": [
    "###  Función que lea una lista y calcule la media geométrica de sus valores"
   ]
  },
  {
   "cell_type": "code",
   "execution_count": 101,
   "id": "ea20e4fb-de66-4f20-9c35-a13d8feef944",
   "metadata": {},
   "outputs": [
    {
     "name": "stdout",
     "output_type": "stream",
     "text": [
      "La media geometrica de la lista es: 0.43340617882659455\n"
     ]
    }
   ],
   "source": [
    "def media_geometrica(lst):\n",
    "    total = reduce(lambda a, b: a * b, lst)\n",
    "    return math.pow(total, (1/len(lst)))\n",
    "lst = [0.67, 0.91, 0.55, 0.41, 0.35, 0.12, 0.44, 0.49]\n",
    "mediageometrica = media_geometrica(lst)\n",
    "print(\"La media geometrica de la lista es: {}\".format(mediageometrica))"
   ]
  },
  {
   "cell_type": "code",
   "execution_count": null,
   "id": "a483a9ab-6770-4177-b764-c5bc99ba6430",
   "metadata": {},
   "outputs": [],
   "source": []
  }
 ],
 "metadata": {
  "kernelspec": {
   "display_name": "Python 3 (ipykernel)",
   "language": "python",
   "name": "python3"
  },
  "language_info": {
   "codemirror_mode": {
    "name": "ipython",
    "version": 3
   },
   "file_extension": ".py",
   "mimetype": "text/x-python",
   "name": "python",
   "nbconvert_exporter": "python",
   "pygments_lexer": "ipython3",
   "version": "3.10.6"
  }
 },
 "nbformat": 4,
 "nbformat_minor": 5
}
